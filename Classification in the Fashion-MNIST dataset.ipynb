{
 "cells": [
  {
   "cell_type": "markdown",
   "metadata": {},
   "source": [
    "# Fully Connected Neural Network(Pytorch) \n",
    "# Classify fashion items in the Fashion-MNIST dataset"
   ]
  },
  {
   "cell_type": "markdown",
   "metadata": {},
   "source": [
    "## Abstract\n",
    "You will build a four-layer fully-connected neural network through the well-known deep learning framework pytorch, analyze 60,000 training set images and 10,000 test set images in the Fashion-MNIST dataset, and observe the training error and verification error with the training algebra. \n",
    "\n",
    "Firstly, an ordinary four-layer fully connected neural network was built. After training, it was found that the fitting was obvious. Reduce the overfitting by the Dropout method. You will master image classification, accuracy and error analysis, build a fully connected neural network and perform gradient descent training through the Adam algorithm.\n",
    "\n",
    "\n",
    "![Fashion-MNIST Dataset ](https://upload-images.jianshu.io/upload_images/13714448-e0d2b1be2bb1702e.png?imageMogr2/auto-orient/strip%7CimageView2/2/w/1240)\n"
   ]
  },
  {
   "cell_type": "code",
   "execution_count": 1,
   "metadata": {},
   "outputs": [],
   "source": [
    "import torch"
   ]
  },
  {
   "cell_type": "code",
   "execution_count": 2,
   "metadata": {
    "scrolled": true
   },
   "outputs": [
    {
     "data": {
      "text/plain": [
       "'1.1.0'"
      ]
     },
     "execution_count": 2,
     "metadata": {},
     "output_type": "execute_result"
    }
   ],
   "source": [
    "torch.__version__"
   ]
  },
  {
   "cell_type": "markdown",
   "metadata": {},
   "source": [
    "# Download Fasion-MNIST Dataset"
   ]
  },
  {
   "cell_type": "markdown",
   "metadata": {},
   "source": [
    "Covers positive images of 70,000 different products from 10 classification. \n",
    "The size, format, and training set/test set partitioning of Fashion-MNIST is identical to the original MNIST. \n",
    "\n",
    "60000/10000 training test data division, 28x28 grayscale picture. \n",
    "You can use it directly to test the performance of your machine learning and deep learning algorithms without changing any code.\n",
    "\n",
    "\n",
    "[Fashion-MNIST](https://github.com/zalandoresearch/fashion-mnist/blob/master/README.md)\n"
   ]
  },
  {
   "cell_type": "code",
   "execution_count": 3,
   "metadata": {},
   "outputs": [],
   "source": [
    "import torch  \n",
    "from torch import nn, optim  \n",
    "import torch.nn.functional as F \n",
    "from torchvision import datasets, transforms "
   ]
  },
  {
   "cell_type": "code",
   "execution_count": 4,
   "metadata": {},
   "outputs": [],
   "source": [
    "# Data preprocessing: normalize image data so that grayscale data is between -1 and +1\n",
    "transform = transforms.Compose([transforms.ToTensor(),transforms.Normalize((0.5,), (0.5,))])\n",
    "\n",
    "# Download the Fashion-MNIST training dataset and build the training set data loader trainloader, each time loading 64 images from the training set.\n",
    "trainset = datasets.FashionMNIST('dataset/', download=True, train=True, transform=transform)\n",
    "trainloader = torch.utils.data.DataLoader(trainset, batch_size=64, shuffle=True)\n",
    "\n",
    "# Download the Fashion-MNIST testing dataset and build the training set data loader trainloader, each time loading 64 images from the training set.\n",
    "testset = datasets.FashionMNIST('dataset/', download=True, train=False, transform=transform)\n",
    "testloader = torch.utils.data.DataLoader(testset, batch_size=64, shuffle=True)"
   ]
  },
  {
   "cell_type": "markdown",
   "metadata": {},
   "source": [
    "## Display image"
   ]
  },
  {
   "cell_type": "code",
   "execution_count": 5,
   "metadata": {
    "scrolled": false
   },
   "outputs": [
    {
     "name": "stdout",
     "output_type": "stream",
     "text": [
      "The corresponding label for this image is Trouser\n"
     ]
    },
    {
     "data": {
      "image/png": "[encoded data removed]",
      "text/plain": [
       "<Figure size 432x288 with 1 Axes>"
      ]
     },
     "metadata": {},
     "output_type": "display_data"
    }
   ],
   "source": [
    "image, label = next(iter(trainloader))\n",
    "\n",
    "#There are 64 images, we look at the image with index 3.\n",
    "imagedemo = image[3]\n",
    "imagedemolabel = label[3]\n",
    "\n",
    "imagedemo = imagedemo.reshape((28,28))\n",
    "\n",
    "import matplotlib.pyplot as plt\n",
    "%matplotlib inline\n",
    "plt.imshow(imagedemo)\n",
    "\n",
    "labellist = ['T-shirt','Trouser','Pullover','Dress','Coat','Sandal','Shirt','Sneaker','Bag','Ankle boot']\n",
    "print(f'The corresponding label for this image is {labellist[imagedemolabel]}')"
   ]
  },
  {
   "cell_type": "markdown",
   "metadata": {},
   "source": [
    "# Open the image in the dataset"
   ]
  },
  {
   "cell_type": "code",
   "execution_count": 6,
   "metadata": {},
   "outputs": [],
   "source": [
    "image, label = next(iter(trainloader))"
   ]
  },
  {
   "cell_type": "code",
   "execution_count": 7,
   "metadata": {},
   "outputs": [
    {
     "data": {
      "text/plain": [
       "torch.Size([64, 1, 28, 28])"
      ]
     },
     "execution_count": 7,
     "metadata": {},
     "output_type": "execute_result"
    }
   ],
   "source": [
    "image.shape"
   ]
  },
  {
   "cell_type": "code",
   "execution_count": 8,
   "metadata": {},
   "outputs": [
    {
     "data": {
      "text/plain": [
       "tensor([3, 8, 9, 1, 0, 7, 9, 7, 7, 5, 9, 0, 6, 7, 3, 6, 2, 8, 7, 0, 6, 0, 4, 9,\n",
       "        1, 4, 4, 3, 2, 9, 9, 4, 3, 4, 0, 8, 9, 6, 3, 7, 7, 3, 0, 4, 7, 2, 4, 5,\n",
       "        0, 8, 4, 3, 9, 3, 8, 8, 6, 7, 1, 3, 6, 3, 1, 5])"
      ]
     },
     "execution_count": 8,
     "metadata": {},
     "output_type": "execute_result"
    }
   ],
   "source": [
    "label"
   ]
  },
  {
   "cell_type": "markdown",
   "metadata": {},
   "source": [
    "\"Label\" contains the label corresponding to the 64 images in the \"image\"\n",
    "\n",
    "| Label | Description |\n",
    "| --- | --- |\n",
    "| 0 | T-shirt/top|\n",
    "| 1 | Trouser|\n",
    "| 2 | Pullover|\n",
    "| 3 | Dress|\n",
    "| 4 | Coat|\n",
    "| 5 | Sandal|\n",
    "| 6 | Shirt|\n",
    "| 7 | Sneaker|\n",
    "| 8 | Bag|\n",
    "| 9 | Ankle boot|"
   ]
  },
  {
   "cell_type": "markdown",
   "metadata": {},
   "source": [
    "## Open a image in the training dataset"
   ]
  },
  {
   "cell_type": "code",
   "execution_count": 9,
   "metadata": {},
   "outputs": [],
   "source": [
    "imagedemo = image[2]\n",
    "imagedemolabel = label[2]"
   ]
  },
  {
   "cell_type": "code",
   "execution_count": 10,
   "metadata": {},
   "outputs": [
    {
     "data": {
      "text/plain": [
       "torch.Size([1, 28, 28])"
      ]
     },
     "execution_count": 10,
     "metadata": {},
     "output_type": "execute_result"
    }
   ],
   "source": [
    "imagedemo.shape"
   ]
  },
  {
   "cell_type": "code",
   "execution_count": 11,
   "metadata": {},
   "outputs": [],
   "source": [
    "imagedemo = imagedemo.reshape((28,28))"
   ]
  },
  {
   "cell_type": "code",
   "execution_count": 12,
   "metadata": {},
   "outputs": [
    {
     "data": {
      "text/plain": [
       "torch.Size([28, 28])"
      ]
     },
     "execution_count": 12,
     "metadata": {},
     "output_type": "execute_result"
    }
   ],
   "source": [
    "imagedemo.shape"
   ]
  },
  {
   "cell_type": "code",
   "execution_count": 13,
   "metadata": {},
   "outputs": [
    {
     "data": {
      "text/plain": [
       "tensor(9)"
      ]
     },
     "execution_count": 13,
     "metadata": {},
     "output_type": "execute_result"
    }
   ],
   "source": [
    "imagedemolabel"
   ]
  },
  {
   "cell_type": "code",
   "execution_count": 14,
   "metadata": {},
   "outputs": [
    {
     "name": "stdout",
     "output_type": "stream",
     "text": [
      "The corresponding label for this image is Ankle boot\n"
     ]
    },
    {
     "data": {
      "image/png": "[encoded data removed]",
      "text/plain": [
       "<Figure size 432x288 with 1 Axes>"
      ]
     },
     "metadata": {},
     "output_type": "display_data"
    }
   ],
   "source": [
    "import matplotlib.pyplot as plt\n",
    "%matplotlib inline\n",
    "plt.imshow(imagedemo)\n",
    "\n",
    "labellist = ['T-shirt','Trouser','Pullover','Dress','Coat','Sandal','Shirt','Sneaker','Bag','Ankle boot']\n",
    "print(f'The corresponding label for this image is {labellist[imagedemolabel]}')"
   ]
  },
  {
   "cell_type": "markdown",
   "metadata": {},
   "source": [
    "# Build and train a four-layer fully connected neural network\n",
    "\n",
    "The input to the neural network is 28 * 28 = 784 pixels<br>\n",
    "The first hidden layer contains 256 neurons<br>\n",
    "The second hidden layer contains 128 neurons<br>\n",
    "The third hidden layer contains 64 neurons<br>\n",
    "The output layer outputs 10 results, corresponding to 10 classification of images.<br>\n",
    "\n",
    "![全连接神经网络](https://upload-images.jianshu.io/upload_images/13714448-c8b5fa11504798bf.png?imageMogr2/auto-orient/strip%7CimageView2/2/w/1240)"
   ]
  },
  {
   "cell_type": "code",
   "execution_count": 15,
   "metadata": {},
   "outputs": [],
   "source": [
    "from torch import nn, optim\n",
    "import torch.nn.functional as F\n",
    "\n",
    "class Classifier(nn.Module):\n",
    "    def __init__(self):\n",
    "        super().__init__()\n",
    "        self.fc1 = nn.Linear(784, 256)\n",
    "        self.fc2 = nn.Linear(256, 128)\n",
    "        self.fc3 = nn.Linear(128, 64)\n",
    "        self.fc4 = nn.Linear(64, 10)\n",
    "        \n",
    "    def forward(self, x):\n",
    "        # make sure input tensor is flattened\n",
    "        x = x.view(x.shape[0], -1)\n",
    "        \n",
    "        x = F.relu(self.fc1(x))\n",
    "        x = F.relu(self.fc2(x))\n",
    "        x = F.relu(self.fc3(x))\n",
    "        x = F.log_softmax(self.fc4(x), dim=1)\n",
    "        \n",
    "        return x"
   ]
  },
  {
   "cell_type": "code",
   "execution_count": 16,
   "metadata": {
    "scrolled": false
   },
   "outputs": [
    {
     "name": "stdout",
     "output_type": "stream",
     "text": [
      "Training\n",
      "Learning times: 1/15..  training loss: 0.518..  Validation loss: 0.459..  accuracy: 0.836\n",
      "Learning times: 2/15..  training loss: 0.396..  Validation loss: 0.401..  accuracy: 0.857\n",
      "Learning times: 3/15..  training loss: 0.360..  Validation loss: 0.396..  accuracy: 0.861\n",
      "Learning times: 4/15..  training loss: 0.336..  Validation loss: 0.391..  accuracy: 0.860\n",
      "Learning times: 5/15..  training loss: 0.318..  Validation loss: 0.373..  accuracy: 0.870\n",
      "Learning times: 6/15..  training loss: 0.306..  Validation loss: 0.399..  accuracy: 0.861\n",
      "Learning times: 7/15..  training loss: 0.296..  Validation loss: 0.378..  accuracy: 0.864\n",
      "Learning times: 8/15..  training loss: 0.285..  Validation loss: 0.368..  accuracy: 0.875\n",
      "Learning times: 9/15..  training loss: 0.280..  Validation loss: 0.388..  accuracy: 0.873\n",
      "Learning times: 10/15..  training loss: 0.268..  Validation loss: 0.369..  accuracy: 0.874\n",
      "Learning times: 11/15..  training loss: 0.262..  Validation loss: 0.394..  accuracy: 0.873\n",
      "Learning times: 12/15..  training loss: 0.259..  Validation loss: 0.372..  accuracy: 0.875\n",
      "Learning times: 13/15..  training loss: 0.251..  Validation loss: 0.367..  accuracy: 0.880\n",
      "Learning times: 14/15..  training loss: 0.245..  Validation loss: 0.365..  accuracy: 0.878\n",
      "Learning times: 15/15..  training loss: 0.240..  Validation loss: 0.359..  accuracy: 0.881\n"
     ]
    }
   ],
   "source": [
    "model = Classifier()\n",
    "\n",
    "criterion = nn.NLLLoss()\n",
    "\n",
    "# The optimization method is the Adam gradient descent method with a learning rate of 0.003.\n",
    "optimizer = optim.Adam(model.parameters(), lr=0.003)\n",
    "\n",
    "# Learn all the data in the training dataset 15 times. The larger the number, the longer the training time.\n",
    "epochs = 15\n",
    "\n",
    "# Store training and test errors for each training in both lists.\n",
    "train_losses, test_losses = [], []\n",
    "\n",
    "print('Training')\n",
    "for e in range(epochs):\n",
    "    running_loss = 0\n",
    "    \n",
    "    for images, labels in trainloader:\n",
    "        optimizer.zero_grad()\n",
    "        \n",
    "        log_ps = model(images)\n",
    "        loss = criterion(log_ps, labels)\n",
    "        loss.backward()\n",
    "        optimizer.step()\n",
    "        running_loss += loss.item()\n",
    "    \n",
    "    # Do the following operations each time you finish the dataset\n",
    "    else:\n",
    "        test_loss = 0\n",
    "        accuracy = 0\n",
    "        # No need to open automatic derivation and back propagation when testing\n",
    "        with torch.no_grad():\n",
    "            # Close Dropout\n",
    "            model.eval()\n",
    "            \n",
    "            for images, labels in testloader:\n",
    "    \n",
    "                log_ps = model(images)\n",
    "                test_loss += criterion(log_ps, labels)\n",
    "                ps = torch.exp(log_ps)\n",
    "                top_p, top_class = ps.topk(1, dim=1)\n",
    "                equals = top_class == labels.view(*top_class.shape)\n",
    "                \n",
    "                # The right side of the equal sign predicts the correct proportion of each batch of 64 test images.\n",
    "                accuracy += torch.mean(equals.type(torch.FloatTensor))\n",
    "        \n",
    "        # Open Dropout\n",
    "        model.train()\n",
    "        \n",
    "        train_losses.append(running_loss/len(trainloader))\n",
    "        test_losses.append(test_loss/len(testloader))\n",
    "\n",
    "        print(\"Learning times: {}/{}.. \".format(e+1, epochs),\n",
    "              \"training loss: {:.3f}.. \".format(running_loss/len(trainloader)),\n",
    "              \"Validation loss: {:.3f}.. \".format(test_loss/len(testloader)),\n",
    "              \"accuracy: {:.3f}\".format(accuracy/len(testloader)))"
   ]
  },
  {
   "cell_type": "markdown",
   "metadata": {},
   "source": [
    "# Verify model performance"
   ]
  },
  {
   "cell_type": "code",
   "execution_count": 17,
   "metadata": {},
   "outputs": [
    {
     "data": {
      "text/plain": [
       "<matplotlib.legend.Legend at 0x7fd58e5292b0>"
      ]
     },
     "execution_count": 17,
     "metadata": {},
     "output_type": "execute_result"
    },
    {
     "data": {
      "image/png": "[encoded data removed]",
      "text/plain": [
       "<Figure size 432x288 with 1 Axes>"
      ]
     },
     "metadata": {},
     "output_type": "display_data"
    }
   ],
   "source": [
    "import matplotlib.pyplot as plt\n",
    "%matplotlib inline\n",
    "\n",
    "plt.plot(train_losses, label='Training loss')\n",
    "plt.plot(test_losses, label='Validation loss')\n",
    "plt.legend()"
   ]
  },
  {
   "cell_type": "markdown",
   "metadata": {},
   "source": [
    "It can be seen that although the training loss has been declining, the validation loss is still high.<br> \n",
    "(Our neural network is like a high-scoring and low-energy classmate.<br>\n",
    "Usually, all the answers to the after-school questions are memorized.)<br>\n",
    "<br>\n",
    "Sometimes the predicted probability is only 30 to 40 percent of the grasp."
   ]
  },
  {
   "cell_type": "code",
   "execution_count": 40,
   "metadata": {
    "scrolled": true
   },
   "outputs": [
    {
     "name": "stdout",
     "output_type": "stream",
     "text": [
      "The neural network guesses the image is T-shirt，probability is 63.13992142677307%\n"
     ]
    },
    {
     "data": {
      "image/png": "[encoded data removed]",
      "text/plain": [
       "<Figure size 432x288 with 1 Axes>"
      ]
     },
     "metadata": {},
     "output_type": "display_data"
    }
   ],
   "source": [
    "dataiter = iter(testloader)\n",
    "images, labels = dataiter.next()\n",
    "img = images[0]\n",
    "img = img.reshape((28,28)).numpy()\n",
    "plt.imshow(img)\n",
    "\n",
    "# Convert test images to one-dimensional column vectors\n",
    "img = torch.from_numpy(img)\n",
    "img = img.view(1, 784)\n",
    "\n",
    "# Perform forward inference to predict the classification of the image\n",
    "with torch.no_grad():\n",
    "    output = model.forward(img)\n",
    "ps = torch.exp(output)\n",
    "\n",
    "top_p, top_class = ps.topk(1, dim=1)\n",
    "labellist = ['T-shirt','Trouser','Pullover','Dress','Coat','Sandal','Shirt','Sneaker','Bag','Ankle boot']\n",
    "prediction = labellist[top_class]\n",
    "probability = float(top_p)\n",
    "print(f'The neural network guesses the image is {prediction}，probability is {probability*100}%')"
   ]
  },
  {
   "cell_type": "markdown",
   "metadata": {},
   "source": [
    "# Use the Dropout method to prevent overfitting"
   ]
  },
  {
   "cell_type": "markdown",
   "metadata": {},
   "source": [
    "#Large-scale neural networks have two disadvantages：<br>\n",
    "1.Spend long time.<br>\n",
    "2.Overfitting<br>\n",
    "<br>\n",
    "The Dropout is a good solution to this problem. Every time you do a dropout, it is equivalent to finding a thinner network from the original network.\n",
    "\n",
    "![Dropout](https://raw.githubusercontent.com/stdcoutzyx/Blogs/master/blogs/imgs/n7-1.png)"
   ]
  },
  {
   "cell_type": "code",
   "execution_count": 44,
   "metadata": {},
   "outputs": [],
   "source": [
    "class Classifier(nn.Module):\n",
    "    def __init__(self):\n",
    "        super().__init__()\n",
    "        self.fc1 = nn.Linear(784, 256)\n",
    "        self.fc2 = nn.Linear(256, 128)\n",
    "        self.fc3 = nn.Linear(128, 64)\n",
    "        self.fc4 = nn.Linear(64, 10)\n",
    "        \n",
    "        # Randomly \"die\" 20% of neurons during each training session to prevent overfitting.\n",
    "        self.dropout = nn.Dropout(p=0.2)\n",
    "        \n",
    "    def forward(self, x):\n",
    "        # Make sure that the input tensor is an expanded single-column data, compressing the three dimensions of the channel, length, and width of each image into one column.\n",
    "        x = x.view(x.shape[0], -1)\n",
    "        \n",
    "        x = self.dropout(F.relu(self.fc1(x)))\n",
    "        x = self.dropout(F.relu(self.fc2(x)))\n",
    "        x = self.dropout(F.relu(self.fc3(x)))\n",
    "        \n",
    "        x = F.log_softmax(self.fc4(x), dim=1)\n",
    "        \n",
    "        return x"
   ]
  },
  {
   "cell_type": "code",
   "execution_count": 45,
   "metadata": {},
   "outputs": [
    {
     "name": "stdout",
     "output_type": "stream",
     "text": [
      "Training\n",
      "Learning times: 1/15..  training loss: 0.608..  Validation loss: 0.505..  accuracy: 0.818\n",
      "Learning times: 2/15..  training loss: 0.484..  Validation loss: 0.463..  accuracy: 0.831\n",
      "Learning times: 3/15..  training loss: 0.454..  Validation loss: 0.477..  accuracy: 0.825\n",
      "Learning times: 4/15..  training loss: 0.434..  Validation loss: 0.405..  accuracy: 0.855\n",
      "Learning times: 5/15..  training loss: 0.421..  Validation loss: 0.409..  accuracy: 0.855\n",
      "Learning times: 6/15..  training loss: 0.415..  Validation loss: 0.408..  accuracy: 0.855\n",
      "Learning times: 7/15..  training loss: 0.400..  Validation loss: 0.408..  accuracy: 0.859\n",
      "Learning times: 8/15..  training loss: 0.401..  Validation loss: 0.398..  accuracy: 0.861\n",
      "Learning times: 9/15..  training loss: 0.402..  Validation loss: 0.390..  accuracy: 0.858\n",
      "Learning times: 10/15..  training loss: 0.390..  Validation loss: 0.400..  accuracy: 0.862\n",
      "Learning times: 11/15..  training loss: 0.383..  Validation loss: 0.399..  accuracy: 0.865\n",
      "Learning times: 12/15..  training loss: 0.383..  Validation loss: 0.382..  accuracy: 0.864\n",
      "Learning times: 13/15..  training loss: 0.375..  Validation loss: 0.365..  accuracy: 0.874\n",
      "Learning times: 14/15..  training loss: 0.373..  Validation loss: 0.396..  accuracy: 0.856\n",
      "Learning times: 15/15..  training loss: 0.369..  Validation loss: 0.392..  accuracy: 0.864\n"
     ]
    }
   ],
   "source": [
    "model = Classifier()\n",
    "\n",
    "criterion = nn.NLLLoss()\n",
    "\n",
    "# The optimization method is the Adam gradient descent method with a learning rate of 0.003.\n",
    "optimizer = optim.Adam(model.parameters(), lr=0.003)\n",
    "\n",
    "# Learn all the data in the training dataset 15 times. The larger the number, the longer the training time.\n",
    "epochs = 15\n",
    "\n",
    "# Store training and test errors for each training in both lists.\n",
    "train_losses, test_losses = [], []\n",
    "\n",
    "print('Training')\n",
    "for e in range(epochs):\n",
    "    running_loss = 0\n",
    "    \n",
    "    for images, labels in trainloader:\n",
    "        optimizer.zero_grad()\n",
    "        \n",
    "        log_ps = model(images)\n",
    "        loss = criterion(log_ps, labels)\n",
    "        loss.backward()\n",
    "        optimizer.step()\n",
    "        running_loss += loss.item()\n",
    "    \n",
    "    # Do the following operations each time you finish the dataset\n",
    "    else:\n",
    "        test_loss = 0\n",
    "        accuracy = 0\n",
    "        # No need to open automatic derivation and back propagation when testing\n",
    "        with torch.no_grad():\n",
    "            # Close Dropout\n",
    "            model.eval()\n",
    "            \n",
    "            for images, labels in testloader:\n",
    "    \n",
    "                log_ps = model(images)\n",
    "                test_loss += criterion(log_ps, labels)\n",
    "                ps = torch.exp(log_ps)\n",
    "                top_p, top_class = ps.topk(1, dim=1)\n",
    "                equals = top_class == labels.view(*top_class.shape)\n",
    "                \n",
    "                # The right side of the equal sign predicts the correct proportion of each batch of 64 test images.\n",
    "                accuracy += torch.mean(equals.type(torch.FloatTensor))\n",
    "        \n",
    "        # Open Dropout\n",
    "        model.train()\n",
    "        \n",
    "        train_losses.append(running_loss/len(trainloader))\n",
    "        test_losses.append(test_loss/len(testloader))\n",
    "\n",
    "        print(\"Learning times: {}/{}.. \".format(e+1, epochs),\n",
    "              \"training loss: {:.3f}.. \".format(running_loss/len(trainloader)),\n",
    "              \"Validation loss: {:.3f}.. \".format(test_loss/len(testloader)),\n",
    "              \"accuracy: {:.3f}\".format(accuracy/len(testloader)))"
   ]
  },
  {
   "cell_type": "code",
   "execution_count": 46,
   "metadata": {},
   "outputs": [
    {
     "data": {
      "text/plain": [
       "<matplotlib.legend.Legend at 0x7fd58dcee5c0>"
      ]
     },
     "execution_count": 46,
     "metadata": {},
     "output_type": "execute_result"
    },
    {
     "data": {
      "image/png": "[encoded data removed]",
      "text/plain": [
       "<Figure size 432x288 with 1 Axes>"
      ]
     },
     "metadata": {},
     "output_type": "display_data"
    }
   ],
   "source": [
    "import matplotlib.pyplot as plt\n",
    "%matplotlib inline\n",
    "\n",
    "plt.plot(train_losses, label='Training loss')\n",
    "plt.plot(test_losses, label='Validation loss')\n",
    "plt.legend()"
   ]
  },
  {
   "cell_type": "markdown",
   "metadata": {},
   "source": [
    "It can be seen that the Training loss and the Validation loss are gradually reduced as the number of learning increases."
   ]
  },
  {
   "cell_type": "code",
   "execution_count": 69,
   "metadata": {},
   "outputs": [
    {
     "name": "stdout",
     "output_type": "stream",
     "text": [
      "The neural network guesses the image is Sneaker，probability is 99.97482895851135%\n"
     ]
    },
    {
     "data": {
      "image/png": "[encoded data removed]",
      "text/plain": [
       "<Figure size 432x288 with 1 Axes>"
      ]
     },
     "metadata": {},
     "output_type": "display_data"
    }
   ],
   "source": [
    "model.eval()\n",
    "dataiter = iter(testloader)\n",
    "images, labels = dataiter.next()\n",
    "img = images[0]\n",
    "img = img.reshape((28,28)).numpy()\n",
    "plt.imshow(img)\n",
    "\n",
    "# Convert test images to one-dimensional column vectors\n",
    "img = torch.from_numpy(img)\n",
    "img = img.view(1, 784)\n",
    "\n",
    "# Perform forward inference to predict the classification of the image\n",
    "with torch.no_grad():\n",
    "    output = model.forward(img)\n",
    "ps = torch.exp(output)\n",
    "\n",
    "top_p, top_class = ps.topk(1, dim=1)\n",
    "labellist = ['T-shirt','Trouser','Pullover','Dress','Coat','Sandal','Shirt','Sneaker','Bag','Ankle boot']\n",
    "prediction = labellist[top_class]\n",
    "probability = float(top_p)\n",
    "print(f'The neural network guesses the image is {prediction}，probability is {probability*100}%')"
   ]
  },
  {
   "cell_type": "code",
   "execution_count": null,
   "metadata": {},
   "outputs": [],
   "source": []
  }
 ],
 "metadata": {
  "kernelspec": {
   "display_name": "Python 3",
   "language": "python",
   "name": "python3"
  },
  "language_info": {
   "codemirror_mode": {
    "name": "ipython",
    "version": 3
   },
   "file_extension": ".py",
   "mimetype": "text/x-python",
   "name": "python",
   "nbconvert_exporter": "python",
   "pygments_lexer": "ipython3",
   "version": "3.6.8"
  }
 },
 "nbformat": 4,
 "nbformat_minor": 2
}
